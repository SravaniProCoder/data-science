{
 "cells": [
  {
   "cell_type": "code",
   "execution_count": 1,
   "id": "ace2562b",
   "metadata": {},
   "outputs": [],
   "source": [
    "import pandas as pd\n"
   ]
  },
  {
   "cell_type": "code",
   "execution_count": 4,
   "id": "210bc60d",
   "metadata": {},
   "outputs": [
    {
     "name": "stdout",
     "output_type": "stream",
     "text": [
      "    cars  passings\n",
      "0    bmw         3\n",
      "1  volvo         4\n",
      "2   ford         5\n"
     ]
    }
   ],
   "source": [
    "import pandas as pd\n",
    "mydataset={\n",
    "    'cars':[\"bmw\",\"volvo\",\"ford\"],\n",
    "    'passings':[3,4,5]\n",
    "}\n",
    "myvar = pandas.DataFrame(mydataset)\n",
    "print(myvar)"
   ]
  },
  {
   "cell_type": "code",
   "execution_count": 5,
   "id": "2b6d5b25",
   "metadata": {},
   "outputs": [
    {
     "name": "stdout",
     "output_type": "stream",
     "text": [
      "      0\n",
      "0   man\n",
      "1   var\n",
      "2  chii\n"
     ]
    }
   ],
   "source": [
    "import pandas as pd\n",
    "sample=[\"man\",\"var\",\"chii\"]\n",
    "myvar=pd.DataFrame(sample)\n",
    "print(myvar)"
   ]
  },
  {
   "cell_type": "code",
   "execution_count": 6,
   "id": "0308f1d3",
   "metadata": {},
   "outputs": [
    {
     "name": "stdout",
     "output_type": "stream",
     "text": [
      "         0\n",
      "0  manisha\n",
      "1  mounika\n",
      "2        1\n",
      "3        2\n"
     ]
    }
   ],
   "source": [
    "import pandas as pd\n",
    "a=[\"manisha\",\"mounika\"]\n",
    "b=[1,2]\n",
    "myvar=pd.DataFrame(a+b)\n",
    "print(myvar)\n"
   ]
  },
  {
   "cell_type": "code",
   "execution_count": 12,
   "id": "3055aea8",
   "metadata": {},
   "outputs": [
    {
     "name": "stdout",
     "output_type": "stream",
     "text": [
      "0    1\n",
      "1    7\n",
      "2    3\n",
      "dtype: int64\n"
     ]
    }
   ],
   "source": [
    "import pandas as pd\n",
    "a=[1,7,3]\n",
    "myvar=pd.Series(a)\n",
    "print(myvar)"
   ]
  },
  {
   "cell_type": "code",
   "execution_count": 12,
   "id": "abb41244",
   "metadata": {},
   "outputs": [
    {
     "name": "stdout",
     "output_type": "stream",
     "text": [
      "  sravani sandhya\n",
      "0       m       h\n",
      "1       k       d\n",
      "2       l       j\n"
     ]
    }
   ],
   "source": [
    "import  pandas as pd\n",
    "sample={\n",
    "    'sravani':[\"m\",\"k\",\"l\"],\n",
    "    'sandhya':[\"h\",\"d\",\"j\"]\n",
    "}\n",
    "myvar=pd.DataFrame(sample)\n",
    "print(myvar)\n"
   ]
  },
  {
   "cell_type": "code",
   "execution_count": null,
   "id": "1d54adea",
   "metadata": {},
   "outputs": [],
   "source": []
  }
 ],
 "metadata": {
  "kernelspec": {
   "display_name": "Python 3 (ipykernel)",
   "language": "python",
   "name": "python3"
  },
  "language_info": {
   "codemirror_mode": {
    "name": "ipython",
    "version": 3
   },
   "file_extension": ".py",
   "mimetype": "text/x-python",
   "name": "python",
   "nbconvert_exporter": "python",
   "pygments_lexer": "ipython3",
   "version": "3.10.2"
  }
 },
 "nbformat": 4,
 "nbformat_minor": 5
}
